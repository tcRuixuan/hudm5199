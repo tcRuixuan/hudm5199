{
 "cells": [
  {
   "cell_type": "code",
   "execution_count": 4,
   "metadata": {},
   "outputs": [
    {
     "name": "stderr",
     "output_type": "stream",
     "text": [
      "/Users/bgiber/anaconda3/lib/python3.8/site-packages/pandas/core/computation/expressions.py:20: UserWarning: Pandas requires version '2.7.3' or newer of 'numexpr' (version '2.7.1' currently installed).\n",
      "  from pandas.core.computation.check import NUMEXPR_INSTALLED\n"
     ]
    }
   ],
   "source": [
    "import matplotlib.pyplot as plt # `plt` is an alias for the `matplotlib.pyplot` module.\n",
    "import numpy as np\n",
    "import pandas as pd\n",
    "import seaborn as sns # (wrapper of matplotlib)\n",
    "from pylab import rcParams"
   ]
  },
  {
   "cell_type": "code",
   "execution_count": 5,
   "metadata": {},
   "outputs": [],
   "source": [
    "%matplotlib inline\n",
    "rcParams['figure.figsize'] = 12, 6"
   ]
  },
  {
   "cell_type": "markdown",
   "metadata": {},
   "source": [
    "# Loading the data on the local computer and accessing the local file"
   ]
  },
  {
   "cell_type": "code",
   "execution_count": 6,
   "metadata": {},
   "outputs": [
    {
     "data": {
      "text/html": [
       "<div>\n",
       "<style scoped>\n",
       "    .dataframe tbody tr th:only-of-type {\n",
       "        vertical-align: middle;\n",
       "    }\n",
       "\n",
       "    .dataframe tbody tr th {\n",
       "        vertical-align: top;\n",
       "    }\n",
       "\n",
       "    .dataframe thead th {\n",
       "        text-align: right;\n",
       "    }\n",
       "</style>\n",
       "<table border=\"1\" class=\"dataframe\">\n",
       "  <thead>\n",
       "    <tr style=\"text-align: right;\">\n",
       "      <th></th>\n",
       "      <th>track_name</th>\n",
       "      <th>artist(s)_name</th>\n",
       "      <th>artist_count</th>\n",
       "      <th>released_year</th>\n",
       "      <th>released_month</th>\n",
       "      <th>released_day</th>\n",
       "      <th>in_spotify_playlists</th>\n",
       "      <th>in_spotify_charts</th>\n",
       "      <th>streams</th>\n",
       "      <th>in_apple_playlists</th>\n",
       "      <th>...</th>\n",
       "      <th>bpm</th>\n",
       "      <th>key</th>\n",
       "      <th>mode</th>\n",
       "      <th>danceability_%</th>\n",
       "      <th>valence_%</th>\n",
       "      <th>energy_%</th>\n",
       "      <th>acousticness_%</th>\n",
       "      <th>instrumentalness_%</th>\n",
       "      <th>liveness_%</th>\n",
       "      <th>speechiness_%</th>\n",
       "    </tr>\n",
       "  </thead>\n",
       "  <tbody>\n",
       "    <tr>\n",
       "      <th>0</th>\n",
       "      <td>Seven (feat. Latto) (Explicit Ver.)</td>\n",
       "      <td>Latto, Jung Kook</td>\n",
       "      <td>2</td>\n",
       "      <td>2023</td>\n",
       "      <td>7</td>\n",
       "      <td>14</td>\n",
       "      <td>553</td>\n",
       "      <td>147</td>\n",
       "      <td>141381703</td>\n",
       "      <td>43</td>\n",
       "      <td>...</td>\n",
       "      <td>125</td>\n",
       "      <td>B</td>\n",
       "      <td>Major</td>\n",
       "      <td>80</td>\n",
       "      <td>89</td>\n",
       "      <td>83</td>\n",
       "      <td>31</td>\n",
       "      <td>0</td>\n",
       "      <td>8</td>\n",
       "      <td>4</td>\n",
       "    </tr>\n",
       "    <tr>\n",
       "      <th>1</th>\n",
       "      <td>LALA</td>\n",
       "      <td>Myke Towers</td>\n",
       "      <td>1</td>\n",
       "      <td>2023</td>\n",
       "      <td>3</td>\n",
       "      <td>23</td>\n",
       "      <td>1474</td>\n",
       "      <td>48</td>\n",
       "      <td>133716286</td>\n",
       "      <td>48</td>\n",
       "      <td>...</td>\n",
       "      <td>92</td>\n",
       "      <td>C#</td>\n",
       "      <td>Major</td>\n",
       "      <td>71</td>\n",
       "      <td>61</td>\n",
       "      <td>74</td>\n",
       "      <td>7</td>\n",
       "      <td>0</td>\n",
       "      <td>10</td>\n",
       "      <td>4</td>\n",
       "    </tr>\n",
       "    <tr>\n",
       "      <th>2</th>\n",
       "      <td>vampire</td>\n",
       "      <td>Olivia Rodrigo</td>\n",
       "      <td>1</td>\n",
       "      <td>2023</td>\n",
       "      <td>6</td>\n",
       "      <td>30</td>\n",
       "      <td>1397</td>\n",
       "      <td>113</td>\n",
       "      <td>140003974</td>\n",
       "      <td>94</td>\n",
       "      <td>...</td>\n",
       "      <td>138</td>\n",
       "      <td>F</td>\n",
       "      <td>Major</td>\n",
       "      <td>51</td>\n",
       "      <td>32</td>\n",
       "      <td>53</td>\n",
       "      <td>17</td>\n",
       "      <td>0</td>\n",
       "      <td>31</td>\n",
       "      <td>6</td>\n",
       "    </tr>\n",
       "    <tr>\n",
       "      <th>3</th>\n",
       "      <td>Cruel Summer</td>\n",
       "      <td>Taylor Swift</td>\n",
       "      <td>1</td>\n",
       "      <td>2019</td>\n",
       "      <td>8</td>\n",
       "      <td>23</td>\n",
       "      <td>7858</td>\n",
       "      <td>100</td>\n",
       "      <td>800840817</td>\n",
       "      <td>116</td>\n",
       "      <td>...</td>\n",
       "      <td>170</td>\n",
       "      <td>A</td>\n",
       "      <td>Major</td>\n",
       "      <td>55</td>\n",
       "      <td>58</td>\n",
       "      <td>72</td>\n",
       "      <td>11</td>\n",
       "      <td>0</td>\n",
       "      <td>11</td>\n",
       "      <td>15</td>\n",
       "    </tr>\n",
       "    <tr>\n",
       "      <th>4</th>\n",
       "      <td>WHERE SHE GOES</td>\n",
       "      <td>Bad Bunny</td>\n",
       "      <td>1</td>\n",
       "      <td>2023</td>\n",
       "      <td>5</td>\n",
       "      <td>18</td>\n",
       "      <td>3133</td>\n",
       "      <td>50</td>\n",
       "      <td>303236322</td>\n",
       "      <td>84</td>\n",
       "      <td>...</td>\n",
       "      <td>144</td>\n",
       "      <td>A</td>\n",
       "      <td>Minor</td>\n",
       "      <td>65</td>\n",
       "      <td>23</td>\n",
       "      <td>80</td>\n",
       "      <td>14</td>\n",
       "      <td>63</td>\n",
       "      <td>11</td>\n",
       "      <td>6</td>\n",
       "    </tr>\n",
       "  </tbody>\n",
       "</table>\n",
       "<p>5 rows × 24 columns</p>\n",
       "</div>"
      ],
      "text/plain": [
       "                            track_name    artist(s)_name  artist_count  \\\n",
       "0  Seven (feat. Latto) (Explicit Ver.)  Latto, Jung Kook             2   \n",
       "1                                 LALA       Myke Towers             1   \n",
       "2                              vampire    Olivia Rodrigo             1   \n",
       "3                         Cruel Summer      Taylor Swift             1   \n",
       "4                       WHERE SHE GOES         Bad Bunny             1   \n",
       "\n",
       "   released_year  released_month  released_day  in_spotify_playlists  \\\n",
       "0           2023               7            14                   553   \n",
       "1           2023               3            23                  1474   \n",
       "2           2023               6            30                  1397   \n",
       "3           2019               8            23                  7858   \n",
       "4           2023               5            18                  3133   \n",
       "\n",
       "   in_spotify_charts    streams  in_apple_playlists  ...  bpm key   mode  \\\n",
       "0                147  141381703                  43  ...  125   B  Major   \n",
       "1                 48  133716286                  48  ...   92  C#  Major   \n",
       "2                113  140003974                  94  ...  138   F  Major   \n",
       "3                100  800840817                 116  ...  170   A  Major   \n",
       "4                 50  303236322                  84  ...  144   A  Minor   \n",
       "\n",
       "  danceability_%  valence_% energy_% acousticness_%  instrumentalness_%  \\\n",
       "0             80         89       83             31                   0   \n",
       "1             71         61       74              7                   0   \n",
       "2             51         32       53             17                   0   \n",
       "3             55         58       72             11                   0   \n",
       "4             65         23       80             14                  63   \n",
       "\n",
       "   liveness_%  speechiness_%  \n",
       "0           8              4  \n",
       "1          10              4  \n",
       "2          31              6  \n",
       "3          11             15  \n",
       "4          11              6  \n",
       "\n",
       "[5 rows x 24 columns]"
      ]
     },
     "execution_count": 6,
     "metadata": {},
     "output_type": "execute_result"
    }
   ],
   "source": [
    "address = \"https://raw.githubusercontent.com/ks4029/hudm5199_final/main/spotify-2023.csv\"\n",
    "df = pd.read_csv(address, encoding='ISO-8859-1') # load spotify data\n",
    "df.head() # view the first 5 rows of the dataframe"
   ]
  },
  {
   "cell_type": "markdown",
   "metadata": {},
   "source": [
    "# Understanding the data structure and variables"
   ]
  },
  {
   "cell_type": "code",
   "execution_count": 7,
   "metadata": {},
   "outputs": [
    {
     "name": "stdout",
     "output_type": "stream",
     "text": [
      "Dash is running on http://127.0.0.1:2002/\n",
      "\n",
      " * Serving Flask app \"__main__\" (lazy loading)\n",
      " * Environment: production\n",
      "\u001b[31m   WARNING: This is a development server. Do not use it in a production deployment.\u001b[0m\n",
      "\u001b[2m   Use a production WSGI server instead.\u001b[0m\n",
      " * Debug mode: off\n"
     ]
    },
    {
     "name": "stderr",
     "output_type": "stream",
     "text": [
      " * Running on http://127.0.0.1:2002/ (Press CTRL+C to quit)\n"
     ]
    }
   ],
   "source": [
    "import dash\n",
    "from dash.dependencies import Input, Output\n",
    "import dash_html_components as html\n",
    "import dash_core_components as dcc\n",
    "\n",
    "\n",
    "explanation = {\n",
    "    \"track_name\": \"Name of the song\",\n",
    "    \"artist(s)_name\": \"Name of the artist(s) of the song\",\n",
    "    \"artist_count\": \"Number of artists contributing to the song\",\n",
    "    \"released_year\": \"Year when the song was released\",\n",
    "    \"released_month\": \"Month when the song was released\",\n",
    "    \"released_day\": \"Day of the month when the song was released\",\n",
    "    \"in_spotify_playlists\": \"Number of Spotify playlists the song is included in\",\n",
    "    \"in_spotify_charts\": \"Presence and rank of the song on Spotify charts\",\n",
    "    \"streams\": \"Total number of streams on Spotify\",\n",
    "    \"in_apple_playlists\": \"Number of Apple Music playlists the song is included in\",\n",
    "    \"in_apple_charts\": \"Presence and rank of the song on Apple Music charts\",\n",
    "    \"in_deezer_playlists\": \"Number of Deezer playlists the song is included in\",\n",
    "    \"in_deezer_charts\": \"Presence and rank of the song on Deezer charts\",\n",
    "    \"in_shazam_charts\": \"Presence and rank of the song on Shazam charts\",\n",
    "    \"bpm\": \"Beats per minute, a measure of song tempo\",\n",
    "    \"key\": \"Key of the song\",\n",
    "    \"mode\": \"Mode of the song (major or minor)\",\n",
    "    \"danceability_%\": \"Percentage indicating how suitable the song is for dancing\",\n",
    "    \"valence_%\": \"Positivity of the song's musical content\",\n",
    "    \"energy_%\": \"Perceived energy level of the song\",\n",
    "    \"acousticness_%\": \"Amount of acoustic sound in the song\",\n",
    "    \"instrumentalness_%\": \"Amount of instrumental content in the song\",\n",
    "    \"liveness_%\": \"Presence of live performance elements\",\n",
    "    \"speechiness_%\": \"Amount of spoken words in the song\"\n",
    "}\n",
    "\n",
    "app = dash.Dash(__name__)\n",
    "\n",
    "app.layout = html.Div([\n",
    "    dcc.Dropdown(\n",
    "                      id=\"dropdown-box\",\n",
    "                      className=\"dropdown\",\n",
    "                      options=[{\"label\": k, \"value\": v} for k,v in explanation.items()],\n",
    "                      clearable=False # try with True\n",
    "                  ),\n",
    "\n",
    "    html.Div(id='output-box', style={\"font-size\":32})\n",
    "]\n",
    ")\n",
    "\n",
    "@app.callback(\n",
    "    Output(component_id='output-box', component_property='children'),\n",
    "    Input(component_id='dropdown-box', component_property='value')\n",
    ")\n",
    "\n",
    "def update_output(value):\n",
    "    if value is None:\n",
    "        return 'Please select the variable which you want to know the explanation.'\n",
    "    else:\n",
    "        return 'This variable is \"{}\".'.format(value)\n",
    "\n",
    "if __name__ == '__main__':\n",
    "    app.run_server(port=2002)"
   ]
  },
  {
   "cell_type": "markdown",
   "metadata": {},
   "source": [
    "# Confirm the data type, perform data pre-processing"
   ]
  },
  {
   "cell_type": "code",
   "execution_count": 8,
   "metadata": {},
   "outputs": [
    {
     "name": "stdout",
     "output_type": "stream",
     "text": [
      "<class 'pandas.core.frame.DataFrame'>\n",
      "RangeIndex: 953 entries, 0 to 952\n",
      "Data columns (total 24 columns):\n",
      " #   Column                Non-Null Count  Dtype \n",
      "---  ------                --------------  ----- \n",
      " 0   track_name            953 non-null    object\n",
      " 1   artist(s)_name        953 non-null    object\n",
      " 2   artist_count          953 non-null    int64 \n",
      " 3   released_year         953 non-null    int64 \n",
      " 4   released_month        953 non-null    int64 \n",
      " 5   released_day          953 non-null    int64 \n",
      " 6   in_spotify_playlists  953 non-null    int64 \n",
      " 7   in_spotify_charts     953 non-null    int64 \n",
      " 8   streams               953 non-null    object\n",
      " 9   in_apple_playlists    953 non-null    int64 \n",
      " 10  in_apple_charts       953 non-null    int64 \n",
      " 11  in_deezer_playlists   953 non-null    object\n",
      " 12  in_deezer_charts      953 non-null    int64 \n",
      " 13  in_shazam_charts      903 non-null    object\n",
      " 14  bpm                   953 non-null    int64 \n",
      " 15  key                   858 non-null    object\n",
      " 16  mode                  953 non-null    object\n",
      " 17  danceability_%        953 non-null    int64 \n",
      " 18  valence_%             953 non-null    int64 \n",
      " 19  energy_%              953 non-null    int64 \n",
      " 20  acousticness_%        953 non-null    int64 \n",
      " 21  instrumentalness_%    953 non-null    int64 \n",
      " 22  liveness_%            953 non-null    int64 \n",
      " 23  speechiness_%         953 non-null    int64 \n",
      "dtypes: int64(17), object(7)\n",
      "memory usage: 178.8+ KB\n"
     ]
    }
   ],
   "source": [
    "df.info()"
   ]
  },
  {
   "cell_type": "code",
   "execution_count": 9,
   "metadata": {},
   "outputs": [
    {
     "name": "stdout",
     "output_type": "stream",
     "text": [
      "<class 'pandas.core.frame.DataFrame'>\n",
      "Index: 952 entries, 0 to 952\n",
      "Data columns (total 24 columns):\n",
      " #   Column                Non-Null Count  Dtype \n",
      "---  ------                --------------  ----- \n",
      " 0   track_name            952 non-null    object\n",
      " 1   artist(s)_name        952 non-null    object\n",
      " 2   artist_count          952 non-null    int64 \n",
      " 3   released_year         952 non-null    int64 \n",
      " 4   released_month        952 non-null    int64 \n",
      " 5   released_day          952 non-null    int64 \n",
      " 6   in_spotify_playlists  952 non-null    int64 \n",
      " 7   in_spotify_charts     952 non-null    int64 \n",
      " 8   streams               952 non-null    int64 \n",
      " 9   in_apple_playlists    952 non-null    int64 \n",
      " 10  in_apple_charts       952 non-null    int64 \n",
      " 11  in_deezer_playlists   952 non-null    object\n",
      " 12  in_deezer_charts      952 non-null    int64 \n",
      " 13  in_shazam_charts      902 non-null    object\n",
      " 14  bpm                   952 non-null    int64 \n",
      " 15  key                   857 non-null    object\n",
      " 16  mode                  952 non-null    object\n",
      " 17  danceability_%        952 non-null    int64 \n",
      " 18  valence_%             952 non-null    int64 \n",
      " 19  energy_%              952 non-null    int64 \n",
      " 20  acousticness_%        952 non-null    int64 \n",
      " 21  instrumentalness_%    952 non-null    int64 \n",
      " 22  liveness_%            952 non-null    int64 \n",
      " 23  speechiness_%         952 non-null    int64 \n",
      "dtypes: int64(18), object(6)\n",
      "memory usage: 185.9+ KB\n"
     ]
    },
    {
     "name": "stderr",
     "output_type": "stream",
     "text": [
      "<ipython-input-9-f3a146290886>:2: SettingWithCopyWarning: \n",
      "A value is trying to be set on a copy of a slice from a DataFrame.\n",
      "Try using .loc[row_indexer,col_indexer] = value instead\n",
      "\n",
      "See the caveats in the documentation: https://pandas.pydata.org/pandas-docs/stable/user_guide/indexing.html#returning-a-view-versus-a-copy\n",
      "  df_streams_to_int[\"streams\"] = df_streams_to_int[\"streams\"].astype(\"int64\")\n"
     ]
    }
   ],
   "source": [
    "df_streams_to_int = df.loc[df['streams'].str.len() <= 15]\n",
    "df_streams_to_int[\"streams\"] = df_streams_to_int[\"streams\"].astype(\"int64\")\n",
    "df_streams_to_int.info()"
   ]
  },
  {
   "cell_type": "code",
   "execution_count": 27,
   "metadata": {},
   "outputs": [
    {
     "data": {
      "image/png": "[encoded data removed]",
      "text/plain": [
       "<Figure size 720x432 with 1 Axes>"
      ]
     },
     "metadata": {
      "needs_background": "light"
     },
     "output_type": "display_data"
    },
    {
     "data": {
      "image/png": "[encoded data removed]",
      "text/plain": [
       "<Figure size 864x432 with 1 Axes>"
      ]
     },
     "metadata": {
      "needs_background": "light"
     },
     "output_type": "display_data"
    },
    {
     "data": {
      "image/png": "[encoded data removed]",
      "text/plain": [
       "<Figure size 864x432 with 1 Axes>"
      ]
     },
     "metadata": {
      "needs_background": "light"
     },
     "output_type": "display_data"
    },
    {
     "data": {
      "image/png": "[encoded data removed]",
      "text/plain": [
       "<Figure size 720x432 with 1 Axes>"
      ]
     },
     "metadata": {
      "needs_background": "light"
     },
     "output_type": "display_data"
    },
    {
     "name": "stdout",
     "output_type": "stream",
     "text": [
      "T-statistic: 1.3250961337315372\n",
      "P-value: 0.18547983112739738\n"
     ]
    }
   ],
   "source": [
    "# Draw a line plot to represent the means of streams of songs grouped by released year.\n",
    "\n",
    "df_recent = df_streams_to_int[df_streams_to_int['released_year'] > 2010]\n",
    "mean_streams_by_year = df_recent.groupby('released_year')['streams'].mean()\n",
    "\n",
    "plt.figure(figsize=(10, 6))\n",
    "mean_streams_by_year.plot(kind='line', marker='o')\n",
    "plt.title('Mean streams of songs per released Year (2011-2023)')\n",
    "plt.xlabel('Released Year')\n",
    "plt.ylabel('Average Streams')\n",
    "plt.grid(True)\n",
    "plt.show()\n",
    "\n",
    "# Draw a boxplot to visualize the distribution of streams of songs released after 2010, grouped by released year.\n",
    "df_streams_to_int[df_streams_to_int['released_year'] > 2010].boxplot(column=\"streams\", by=\"released_year\")\n",
    "plt.suptitle('Yearly Distribution of Song Streams (2011 - Present)')\n",
    "\n",
    "# Draw a boxplot to visualize the distribution of streams of songs grouped by key.\n",
    "df_streams_to_int.boxplot(column=\"streams\", by=\"key\")\n",
    "plt.suptitle('Distribution of Song Streams by key type')\n",
    "\n",
    "# Draw a bar plot to represent the means of streams of songs grouped by key.\n",
    "mean_streams_by_key = df_streams_to_int.groupby('key')['streams'].mean()\n",
    "import seaborn as sns\n",
    "plt.figure(figsize=(10, 6)) \n",
    "bar_plot = sns.barplot(x=mean_streams_by_key.index, y=(mean_streams_by_key.values/1000000))\n",
    "plt.title('Mean Streams of Songs Grouped by Musical Key')\n",
    "plt.xlabel('Musical Key')\n",
    "plt.ylabel('Mean Streams(in millions)')\n",
    "plt.ylim(0, 1000)\n",
    "# Show the exact number above each bar\n",
    "for p in bar_plot.patches:\n",
    "    bar_plot.annotate(format(p.get_height(), '.0f'), \n",
    "                      (p.get_x() + p.get_width() / 2., p.get_height()), \n",
    "                      ha = 'center', va = 'center', \n",
    "                      xytext = (0, 9), \n",
    "                      textcoords = 'offset points')\n",
    "plt.show()\n",
    "\n",
    "from scipy import stats\n",
    "# Perform a t-test comparing the stream of songs in Major mode to the stream of songs in Minor mode\n",
    "major_streams = df_streams_to_int[df_streams_to_int['mode'] == 'Major']['streams']\n",
    "minor_streams = df_streams_to_int[df_streams_to_int['mode'] == 'Minor']['streams']\n",
    "\n",
    "class t_test:\n",
    "    def __init__(self, major_streams, minor_streams):\n",
    "        self.major_streams = major_streams\n",
    "        self.minor_streams = minor_streams\n",
    "        self.ttest_result = stats.ttest_ind(self.major_streams, self.minor_streams, equal_var = False)\n",
    "\n",
    "    def t_statistic(self):\n",
    "        return f\"T-statistic: {self.ttest_result[0]}\"\n",
    "\n",
    "    def p_value(self):\n",
    "        return f\"P-value: {self.ttest_result[1]}\"\n",
    "\n",
    "spotify_results = t_test(major_streams, minor_streams)\n",
    "print(spotify_results.t_statistic())\n",
    "print(spotify_results.p_value())\n",
    "\n",
    "# Since the p-value of this t-test is greater than 0.05, we conclude that there is no significant difference between\n",
    "# the stream number of songs in Major mode and the stream number of songs in Minor mode."
   ]
  },
  {
   "cell_type": "code",
   "execution_count": 18,
   "metadata": {},
   "outputs": [],
   "source": [
    "#This class adds a new song to the existing dataframe and allows you to print the release year for that song.\n",
    "\n",
    "class NewSong:\n",
    "    def __init__(self, track_name, artist_name, released_year, streams):\n",
    "        self.track_name = track_name\n",
    "        self.artist_name = artist_name\n",
    "        self.released_year = released_year\n",
    "        self.streams = streams\n",
    "\n",
    "    def print_released_year(self):\n",
    "        print(self.released_year)\n",
    "\n",
    "    def append_row(self, df):\n",
    "        new_row = {\n",
    "            \"track_name\": self.track_name,\n",
    "            \"artist(s)_name\": self.artist_name,\n",
    "            \"released_year\": self.released_year,\n",
    "            \"streams\": self.streams\n",
    "        }\n",
    "        return df.append(new_row, ignore_index=True)"
   ]
  },
  {
   "cell_type": "code",
   "execution_count": 24,
   "metadata": {},
   "outputs": [
    {
     "name": "stdout",
     "output_type": "stream",
     "text": [
      "1983\n"
     ]
    }
   ],
   "source": [
    "buffalo_soldier = NewSong(\"Bufallo Soldier\", \"Bob Marley\", 1983, 3019999)\n",
    "buffalo_soldier.print_released_year()"
   ]
  }
 ],
 "metadata": {
  "kernelspec": {
   "display_name": "base",
   "language": "python",
   "name": "python3"
  },
  "language_info": {
   "codemirror_mode": {
    "name": "ipython",
    "version": 3
   },
   "file_extension": ".py",
   "mimetype": "text/x-python",
   "name": "python",
   "nbconvert_exporter": "python",
   "pygments_lexer": "ipython3",
   "version": "3.8.5"
  },
  "orig_nbformat": 4
 },
 "nbformat": 4,
 "nbformat_minor": 2
}
